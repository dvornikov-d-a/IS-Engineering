{
 "cells": [
  {
   "cell_type": "markdown",
   "metadata": {},
   "source": [
    "# Лабораторная работа №4"
   ]
  },
  {
   "cell_type": "markdown",
   "metadata": {},
   "source": [
    "## Паттерн \"Адаптер\""
   ]
  },
  {
   "cell_type": "code",
   "execution_count": 16,
   "metadata": {},
   "outputs": [],
   "source": [
    "class Stats:\n",
    "    def __init__(self, fractions):\n",
    "        self.fractions = fractions\n",
    "        \n",
    "    def mean_percentage(self):\n",
    "        return round(sum(self.fractions) / len(self.fractions) * 100)\n",
    "    \n",
    "    def max_percentage(self):\n",
    "        return round(max(self.fractions) * 100)\n",
    "    \n",
    "    def min_percentage(self):\n",
    "        return round(min(self.fractions) * 100)"
   ]
  },
  {
   "cell_type": "code",
   "execution_count": 17,
   "metadata": {},
   "outputs": [],
   "source": [
    "import random\n",
    "\n",
    "class IntGen:\n",
    "    def __init__(self, count, min_, max_):\n",
    "        self.count = count\n",
    "        self.min_ = min_\n",
    "        self.max_ = max_\n",
    "        \n",
    "    def gen(self):\n",
    "        return [random.randint(self.min_, self.max_) for i in range(self.count)]"
   ]
  },
  {
   "cell_type": "code",
   "execution_count": 18,
   "metadata": {},
   "outputs": [],
   "source": [
    "class Adapter:\n",
    "    def __init__(self, ints):\n",
    "        self.ints = ints\n",
    "        \n",
    "    def convert(self):\n",
    "        max_ = max(ints)\n",
    "        return [int_ / max_ for int_ in self.ints]"
   ]
  },
  {
   "cell_type": "code",
   "execution_count": 19,
   "metadata": {},
   "outputs": [
    {
     "data": {
      "text/plain": [
       "[81, 86, 22, 14, 12, 85, 37, 81, 33, 88]"
      ]
     },
     "execution_count": 19,
     "metadata": {},
     "output_type": "execute_result"
    }
   ],
   "source": [
    "int_gen = IntGen(10, 1, 100)\n",
    "ints = int_gen.gen()\n",
    "ints"
   ]
  },
  {
   "cell_type": "code",
   "execution_count": 20,
   "metadata": {},
   "outputs": [
    {
     "data": {
      "text/plain": [
       "[0.9204545454545454,\n",
       " 0.9772727272727273,\n",
       " 0.25,\n",
       " 0.1590909090909091,\n",
       " 0.13636363636363635,\n",
       " 0.9659090909090909,\n",
       " 0.42045454545454547,\n",
       " 0.9204545454545454,\n",
       " 0.375,\n",
       " 1.0]"
      ]
     },
     "execution_count": 20,
     "metadata": {},
     "output_type": "execute_result"
    }
   ],
   "source": [
    "adapter = Adapter(ints)\n",
    "fractions = adapter.convert()\n",
    "fractions"
   ]
  },
  {
   "cell_type": "code",
   "execution_count": 21,
   "metadata": {},
   "outputs": [
    {
     "name": "stdout",
     "output_type": "stream",
     "text": [
      "61\n",
      "100\n",
      "14\n"
     ]
    }
   ],
   "source": [
    "stats = Stats(fractions)\n",
    "print(stats.mean_percentage())\n",
    "print(stats.max_percentage())\n",
    "print(stats.min_percentage())"
   ]
  },
  {
   "cell_type": "markdown",
   "metadata": {},
   "source": [
    "## Паттерн \"Посредник\""
   ]
  },
  {
   "cell_type": "code",
   "execution_count": 22,
   "metadata": {},
   "outputs": [],
   "source": [
    "class IBrain:\n",
    "    def notify(self, sender):\n",
    "        pass"
   ]
  },
  {
   "cell_type": "code",
   "execution_count": 31,
   "metadata": {},
   "outputs": [],
   "source": [
    "class Auth:\n",
    "    def __init__(self, email, password, brain):\n",
    "        self.email = email\n",
    "        self.password = password\n",
    "        self.brain = brain\n",
    "        \n",
    "    def change(self, email, password):\n",
    "        self.email = email\n",
    "        self.password = password\n",
    "        \n",
    "    def validate(self):\n",
    "        self.brain.notify(self)"
   ]
  },
  {
   "cell_type": "code",
   "execution_count": 32,
   "metadata": {},
   "outputs": [],
   "source": [
    "class Banner:\n",
    "    def __init__(self, text, brain):\n",
    "        self.text = text\n",
    "        self.brain = brain\n",
    "        \n",
    "    def tap(self):\n",
    "        self.brain.notify(self)"
   ]
  },
  {
   "cell_type": "code",
   "execution_count": 33,
   "metadata": {},
   "outputs": [],
   "source": [
    "class Quit:\n",
    "    def __init__(self, phrase, brain):\n",
    "        self.phrase = phrase\n",
    "        self.brain = brain\n",
    "        \n",
    "    def initiate(self):\n",
    "        self.brain.notify(self)"
   ]
  },
  {
   "cell_type": "code",
   "execution_count": 41,
   "metadata": {},
   "outputs": [],
   "source": [
    "class Brain(IBrain):\n",
    "    def __init__(self):\n",
    "        self.email = 'team@yandex.ru'\n",
    "        self.password = 'qwertron42'\n",
    "        self.auth = None\n",
    "        self.banner = None\n",
    "        self.quit = None\n",
    "        \n",
    "    def notify(self, sender):\n",
    "        if sender == self.auth:\n",
    "            self.onValidate()\n",
    "        elif sender == self.banner:\n",
    "            self.onTap()\n",
    "        elif sender == self.quit:\n",
    "            self.onInitiate()\n",
    "        \n",
    "    def subscribe(self, auth, banner, quit):\n",
    "        self.auth = auth\n",
    "        self.banner = banner\n",
    "        self.quit = quit\n",
    "        \n",
    "    def onValidate(self):\n",
    "        if self.auth.email == self.email and self.auth.password == self.password:\n",
    "            print('Всё правильно!')\n",
    "        else:\n",
    "            print('Не сегодня...')\n",
    "            \n",
    "    def onTap(self):\n",
    "        print(self.banner.text)\n",
    "        \n",
    "    def onInitiate(self):\n",
    "        print(self.quit.phrase)"
   ]
  },
  {
   "cell_type": "code",
   "execution_count": 42,
   "metadata": {},
   "outputs": [],
   "source": [
    "brain = Brain()"
   ]
  },
  {
   "cell_type": "code",
   "execution_count": 43,
   "metadata": {},
   "outputs": [],
   "source": [
    "auth = Auth('team@yandex.ru', 'qwertron42', brain)\n",
    "banner = Banner('Здесь могла быть реклама.', brain)\n",
    "quit = Quit('До свидания!', brain)"
   ]
  },
  {
   "cell_type": "code",
   "execution_count": 44,
   "metadata": {},
   "outputs": [],
   "source": [
    "brain.subscribe(auth, banner, quit)"
   ]
  },
  {
   "cell_type": "code",
   "execution_count": 45,
   "metadata": {},
   "outputs": [
    {
     "name": "stdout",
     "output_type": "stream",
     "text": [
      "Всё правильно!\n"
     ]
    }
   ],
   "source": [
    "auth.validate()"
   ]
  },
  {
   "cell_type": "code",
   "execution_count": 46,
   "metadata": {},
   "outputs": [
    {
     "name": "stdout",
     "output_type": "stream",
     "text": [
      "Здесь могла быть реклама.\n"
     ]
    }
   ],
   "source": [
    "banner.tap()"
   ]
  },
  {
   "cell_type": "code",
   "execution_count": 47,
   "metadata": {},
   "outputs": [
    {
     "name": "stdout",
     "output_type": "stream",
     "text": [
      "До свидания!\n"
     ]
    }
   ],
   "source": [
    "quit.initiate()"
   ]
  },
  {
   "cell_type": "code",
   "execution_count": null,
   "metadata": {},
   "outputs": [],
   "source": []
  }
 ],
 "metadata": {
  "kernelspec": {
   "display_name": "Python 3",
   "language": "python",
   "name": "python3"
  },
  "language_info": {
   "codemirror_mode": {
    "name": "ipython",
    "version": 3
   },
   "file_extension": ".py",
   "mimetype": "text/x-python",
   "name": "python",
   "nbconvert_exporter": "python",
   "pygments_lexer": "ipython3",
   "version": "3.6.6"
  }
 },
 "nbformat": 4,
 "nbformat_minor": 2
}
