{
 "cells": [
  {
   "cell_type": "markdown",
   "metadata": {},
   "source": [
    "# Лабораторная работа №1"
   ]
  },
  {
   "cell_type": "markdown",
   "metadata": {},
   "source": [
    " ## Паттерн \"Стратегия\""
   ]
  },
  {
   "cell_type": "code",
   "execution_count": 11,
   "metadata": {},
   "outputs": [],
   "source": [
    "class Passward:\n",
    "    def __init__(self):\n",
    "        self.passwards = {\n",
    "            'Kate': 'KosmoBomba221B',\n",
    "            'Joe': 'SayM1Name',\n",
    "            'Kristin': 'Watermelon4ever'\n",
    "        }\n",
    "        \n",
    "    def auth(self, user, passward):\n",
    "        return self.passwards[user] == passward"
   ]
  },
  {
   "cell_type": "code",
   "execution_count": 12,
   "metadata": {},
   "outputs": [],
   "source": [
    "class Code:\n",
    "    def __init__(self):\n",
    "        self.codes = {\n",
    "            'Kate': 834651,\n",
    "            'Joe': 845027,\n",
    "            'Kristin': 123098\n",
    "        }\n",
    "        \n",
    "    def auth(self, user, code):\n",
    "        return self.codes[user] == code"
   ]
  },
  {
   "cell_type": "code",
   "execution_count": 13,
   "metadata": {},
   "outputs": [],
   "source": [
    "class Graphic:\n",
    "    def __init__(self):\n",
    "        self.graphics = {\n",
    "            'Kate': ['->', 'v', '->'],\n",
    "            'Joe': ['^', 'v', '<-'],\n",
    "            'Kristin': ['<-', '->', '<-']\n",
    "        }\n",
    "        \n",
    "    def auth(self, user, graphic):\n",
    "        return self.graphics[user] == graphic"
   ]
  },
  {
   "cell_type": "code",
   "execution_count": 14,
   "metadata": {},
   "outputs": [],
   "source": [
    "class Authenticator:\n",
    "    def __init__(self, user):\n",
    "        self.user = user\n",
    "    \n",
    "    def enter(self, key, strategy):\n",
    "        if strategy.auth(self.user, key):\n",
    "            print('Вы успешно авторизировались!')\n",
    "        else:\n",
    "            print('Это точно Вы?')"
   ]
  },
  {
   "cell_type": "code",
   "execution_count": 17,
   "metadata": {},
   "outputs": [
    {
     "name": "stdout",
     "output_type": "stream",
     "text": [
      "Вы успешно авторизировались!\n",
      "Это точно Вы?\n",
      "Вы успешно авторизировались!\n"
     ]
    }
   ],
   "source": [
    "for user, key, strategy in zip(['Kate', 'Joe', 'Kristin'], \n",
    "                               ['KosmoBomba221B', 123456, ['<-', '->', '<-']],\n",
    "                               [Passward(), Code(), Graphic()]):\n",
    "    authenticator = Authenticator(user)\n",
    "    authenticator.enter(key, strategy)"
   ]
  },
  {
   "cell_type": "markdown",
   "metadata": {},
   "source": [
    "## Паттерн \"Шаблон\""
   ]
  },
  {
   "cell_type": "code",
   "execution_count": 49,
   "metadata": {},
   "outputs": [],
   "source": [
    "class Card:\n",
    "    def __init__(self, suit, nominal):\n",
    "        self.suit = suit\n",
    "        self.nominal = nominal\n",
    "        \n",
    "    def show(self):\n",
    "        print(self.suit, self.nominal)"
   ]
  },
  {
   "cell_type": "code",
   "execution_count": 50,
   "metadata": {},
   "outputs": [],
   "source": [
    "class BasePlayer:\n",
    "    def __init__(self, hand):\n",
    "        self.hand = hand\n",
    "        \n",
    "    def show_hand(self):\n",
    "        for card in self.hand:\n",
    "            card.show()\n",
    "        \n",
    "    def choose(self):\n",
    "        pass"
   ]
  },
  {
   "cell_type": "code",
   "execution_count": 57,
   "metadata": {},
   "outputs": [],
   "source": [
    "class User(BasePlayer):\n",
    "    def choose(self):\n",
    "        self.hand.pop(int(input()) % len(self.hand))"
   ]
  },
  {
   "cell_type": "code",
   "execution_count": 58,
   "metadata": {},
   "outputs": [],
   "source": [
    "import random\n",
    "\n",
    "\n",
    "class Algo(BasePlayer):\n",
    "    def choose(self):\n",
    "        self.hand.pop(random.randint(1, len(self.hand) - 1))"
   ]
  },
  {
   "cell_type": "code",
   "execution_count": 59,
   "metadata": {},
   "outputs": [
    {
     "name": "stdout",
     "output_type": "stream",
     "text": [
      "Размер колоды: 36 карт\n"
     ]
    }
   ],
   "source": [
    "suits = ('diamonds', 'hearts', 'clubs', 'spades')\n",
    "nominals = ('6', '7', '8', '9', '10', 'jack', 'queen', 'king', 'ace')\n",
    "deck = []\n",
    "for suit in suits:\n",
    "    for nominal in nominals:\n",
    "        deck.append(Card(suit, nominal))\n",
    "print('Размер колоды:', len(deck), 'карт')"
   ]
  },
  {
   "cell_type": "code",
   "execution_count": 60,
   "metadata": {},
   "outputs": [],
   "source": [
    "user = User([deck.pop(random.randint(1, len(deck) - 1)) for i in range(6)])\n",
    "algo = Algo([deck.pop(random.randint(1, len(deck) - 1)) for i in range(6)])"
   ]
  },
  {
   "cell_type": "code",
   "execution_count": 61,
   "metadata": {},
   "outputs": [
    {
     "name": "stdout",
     "output_type": "stream",
     "text": [
      "spades 7\n",
      "spades king\n",
      "spades ace\n",
      "spades 10\n",
      "hearts king\n",
      "diamonds 10\n"
     ]
    }
   ],
   "source": [
    "user.show_hand()"
   ]
  },
  {
   "cell_type": "code",
   "execution_count": 62,
   "metadata": {},
   "outputs": [
    {
     "name": "stdout",
     "output_type": "stream",
     "text": [
      "clubs 9\n",
      "clubs ace\n",
      "clubs queen\n",
      "spades 9\n",
      "diamonds jack\n",
      "diamonds ace\n"
     ]
    }
   ],
   "source": [
    "algo.show_hand()"
   ]
  },
  {
   "cell_type": "code",
   "execution_count": 63,
   "metadata": {},
   "outputs": [
    {
     "name": "stdout",
     "output_type": "stream",
     "text": [
      "0\n"
     ]
    }
   ],
   "source": [
    "deck.append(user.choose())"
   ]
  },
  {
   "cell_type": "code",
   "execution_count": 64,
   "metadata": {},
   "outputs": [],
   "source": [
    "deck.append(algo.choose())"
   ]
  },
  {
   "cell_type": "code",
   "execution_count": 65,
   "metadata": {},
   "outputs": [
    {
     "name": "stdout",
     "output_type": "stream",
     "text": [
      "spades king\n",
      "spades ace\n",
      "spades 10\n",
      "hearts king\n",
      "diamonds 10\n"
     ]
    }
   ],
   "source": [
    "user.show_hand()"
   ]
  },
  {
   "cell_type": "code",
   "execution_count": 66,
   "metadata": {},
   "outputs": [
    {
     "name": "stdout",
     "output_type": "stream",
     "text": [
      "clubs 9\n",
      "clubs queen\n",
      "spades 9\n",
      "diamonds jack\n",
      "diamonds ace\n"
     ]
    }
   ],
   "source": [
    "algo.show_hand()"
   ]
  },
  {
   "cell_type": "code",
   "execution_count": null,
   "metadata": {},
   "outputs": [],
   "source": []
  }
 ],
 "metadata": {
  "kernelspec": {
   "display_name": "Python 3",
   "language": "python",
   "name": "python3"
  },
  "language_info": {
   "codemirror_mode": {
    "name": "ipython",
    "version": 3
   },
   "file_extension": ".py",
   "mimetype": "text/x-python",
   "name": "python",
   "nbconvert_exporter": "python",
   "pygments_lexer": "ipython3",
   "version": "3.6.6"
  }
 },
 "nbformat": 4,
 "nbformat_minor": 2
}
