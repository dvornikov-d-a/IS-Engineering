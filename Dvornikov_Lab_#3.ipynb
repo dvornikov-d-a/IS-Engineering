{
 "cells": [
  {
   "cell_type": "markdown",
   "metadata": {},
   "source": [
    "# Лабораторная работа №3"
   ]
  },
  {
   "cell_type": "markdown",
   "metadata": {},
   "source": [
    "## Паттерн \"Абстрактная фабрика\""
   ]
  },
  {
   "cell_type": "code",
   "execution_count": 1,
   "metadata": {},
   "outputs": [],
   "source": [
    "class Card:\n",
    "    def __init__(self, suit, nominal):\n",
    "        self.suit = suit\n",
    "        self.nominal = nominal\n",
    "        \n",
    "    def show(self):\n",
    "        print(self.suit, self.nominal)"
   ]
  },
  {
   "cell_type": "code",
   "execution_count": 2,
   "metadata": {},
   "outputs": [],
   "source": [
    "class BasePlayer:\n",
    "    def __init__(self, hand):\n",
    "        self.hand = hand\n",
    "        \n",
    "    def show_hand(self):\n",
    "        for card in self.hand:\n",
    "            card.show()\n",
    "        \n",
    "    def choose(self):\n",
    "        pass"
   ]
  },
  {
   "cell_type": "code",
   "execution_count": 43,
   "metadata": {},
   "outputs": [],
   "source": [
    "class User(BasePlayer):\n",
    "    def choose(self):\n",
    "        return self.hand.pop(int(input()) % len(self.hand))"
   ]
  },
  {
   "cell_type": "code",
   "execution_count": 44,
   "metadata": {},
   "outputs": [],
   "source": [
    "import random\n",
    "\n",
    "\n",
    "class Algo(BasePlayer):\n",
    "    def choose(self):\n",
    "        return self.hand.pop(random.randint(0, len(self.hand) - 1))"
   ]
  },
  {
   "cell_type": "code",
   "execution_count": 45,
   "metadata": {},
   "outputs": [],
   "source": [
    "class BaseViewer:\n",
    "    def __init__(self, name):\n",
    "        self.name = name\n",
    "        \n",
    "    def applaud(self):\n",
    "        print(self.name, 'has applauded.')\n",
    "        \n",
    "    def choose_moment(self):\n",
    "        pass"
   ]
  },
  {
   "cell_type": "code",
   "execution_count": 46,
   "metadata": {},
   "outputs": [],
   "source": [
    "class ViewerLive(BaseViewer):\n",
    "    def choose_moment(self):\n",
    "        if int(input()) % 2 == 1:\n",
    "            self.applaud()"
   ]
  },
  {
   "cell_type": "code",
   "execution_count": 47,
   "metadata": {},
   "outputs": [],
   "source": [
    "class ViewerAlgo(BaseViewer):\n",
    "    def choose_moment(self):\n",
    "        if random.randint(0, 5) % 2 == 1:\n",
    "            self.applaud()"
   ]
  },
  {
   "cell_type": "code",
   "execution_count": 48,
   "metadata": {},
   "outputs": [],
   "source": [
    "class IBaseGenerator:\n",
    "    def gen_players(self, hand_one, hand_sec):\n",
    "        pass\n",
    "    \n",
    "    def gen_viewers(self, names):\n",
    "        pass"
   ]
  },
  {
   "cell_type": "code",
   "execution_count": 49,
   "metadata": {},
   "outputs": [],
   "source": [
    "class GeneratorLive(IBaseGenerator):\n",
    "    def gen_players(self, hand_one, hand_sec):\n",
    "        return User(hand_one), User(hand_sec)\n",
    "    \n",
    "    def gen_viewers(self, names):\n",
    "        return [ViewerLive(name) for name in names]"
   ]
  },
  {
   "cell_type": "code",
   "execution_count": 50,
   "metadata": {},
   "outputs": [],
   "source": [
    "class GeneratorAlgo(IBaseGenerator):\n",
    "    def gen_players(self, hand_one, hand_sec):\n",
    "        return Algo(hand_one), Algo(hand_sec)\n",
    "    \n",
    "    def gen_viewers(self, names):\n",
    "        return [ViewerAlgo(name) for name in names]"
   ]
  },
  {
   "cell_type": "code",
   "execution_count": 59,
   "metadata": {},
   "outputs": [],
   "source": [
    "class Game:\n",
    "    def __init__(self, generator, hand_one, hand_sec, names):\n",
    "        self.turn = 0\n",
    "        self.players = generator.gen_players(hand_one, hand_sec)\n",
    "        self.viewers = generator.gen_viewers(names)\n",
    "    \n",
    "    def on(self):\n",
    "        self.players[self.turn].choose().show()\n",
    "        for viewer in self.viewers:\n",
    "            viewer.choose_moment()\n",
    "        self.turn = (self.turn + 1) % 2"
   ]
  },
  {
   "cell_type": "code",
   "execution_count": 60,
   "metadata": {},
   "outputs": [
    {
     "name": "stdout",
     "output_type": "stream",
     "text": [
      "Размер колоды: 36 карт\n"
     ]
    }
   ],
   "source": [
    "suits = ('diamonds', 'hearts', 'clubs', 'spades')\n",
    "nominals = ('6', '7', '8', '9', '10', 'jack', 'queen', 'king', 'ace')\n",
    "deck = []\n",
    "for suit in suits:\n",
    "    for nominal in nominals:\n",
    "        deck.append(Card(suit, nominal))\n",
    "print('Размер колоды:', len(deck), 'карт')\n",
    "hand_one = [deck.pop(random.randint(1, len(deck) - 1)) for i in range(6)]\n",
    "hand_sec = [deck.pop(random.randint(1, len(deck) - 1)) for i in range(6)]"
   ]
  },
  {
   "cell_type": "code",
   "execution_count": 61,
   "metadata": {},
   "outputs": [],
   "source": [
    "names = ['Alan', 'Lilie', 'Sara']"
   ]
  },
  {
   "cell_type": "code",
   "execution_count": 62,
   "metadata": {},
   "outputs": [],
   "source": [
    "gen = GeneratorAlgo()\n",
    "game = Game(gen, hand_one, hand_sec, names)"
   ]
  },
  {
   "cell_type": "code",
   "execution_count": 63,
   "metadata": {},
   "outputs": [
    {
     "name": "stdout",
     "output_type": "stream",
     "text": [
      "spades 8\n",
      "Sara has applauded.\n"
     ]
    }
   ],
   "source": [
    "game.on()"
   ]
  },
  {
   "cell_type": "code",
   "execution_count": 64,
   "metadata": {},
   "outputs": [
    {
     "name": "stdout",
     "output_type": "stream",
     "text": [
      "diamonds 10\n",
      "Lilie has applauded.\n"
     ]
    }
   ],
   "source": [
    "game.on()"
   ]
  },
  {
   "cell_type": "code",
   "execution_count": 66,
   "metadata": {},
   "outputs": [
    {
     "name": "stdout",
     "output_type": "stream",
     "text": [
      "diamonds ace\n",
      "Alan has applauded.\n",
      "Lilie has applauded.\n"
     ]
    }
   ],
   "source": [
    "game.on()"
   ]
  },
  {
   "cell_type": "markdown",
   "metadata": {},
   "source": [
    "## Паттерн \"Строитель\""
   ]
  },
  {
   "cell_type": "code",
   "execution_count": 79,
   "metadata": {},
   "outputs": [],
   "source": [
    "class House:\n",
    "    def __init__(self):\n",
    "        self.roof = ''\n",
    "        self.second_floor = ''\n",
    "        self.first_floor = ''\n",
    "    \n",
    "    def show(self):\n",
    "        print(self.roof)\n",
    "        if self.second_floor != '':\n",
    "            print(self.second_floor) \n",
    "        print(self.first_floor)"
   ]
  },
  {
   "cell_type": "code",
   "execution_count": 80,
   "metadata": {},
   "outputs": [],
   "source": [
    "class IBuilder:\n",
    "    def reset():\n",
    "        pass\n",
    "    \n",
    "    def buildRoof():\n",
    "        pass\n",
    "    \n",
    "    def buildSecondFloor():\n",
    "        pass\n",
    "    \n",
    "    def buildFirstFloor():\n",
    "        pass"
   ]
  },
  {
   "cell_type": "code",
   "execution_count": 100,
   "metadata": {},
   "outputs": [],
   "source": [
    "class BuilderInteresting(IBuilder):\n",
    "    def __init__(self):\n",
    "        self.house = House()\n",
    "        \n",
    "    def reset(self):\n",
    "        self.house = House()\n",
    "        \n",
    "    def buildRoof(self):\n",
    "        self.house.roof = '\\/\\/'\n",
    "        \n",
    "    def buildSecondFloor(self):\n",
    "        self.house.second_floor = '.|o|.'\n",
    "        \n",
    "    def buildFirstFloor(self):\n",
    "        self.house.first_floor = '.|^|.'\n",
    "        \n",
    "    def getHouse(self):\n",
    "        return self.house"
   ]
  },
  {
   "cell_type": "code",
   "execution_count": 101,
   "metadata": {},
   "outputs": [],
   "source": [
    "class BuilderDefault(IBuilder):\n",
    "    def __init__(self):\n",
    "        self.house = House()\n",
    "        \n",
    "    def reset(self):\n",
    "        self.house = House()\n",
    "        \n",
    "    def buildRoof(self):\n",
    "        self.house.roof = '_/\\_'\n",
    "        \n",
    "    def buildSecondFloor(self):\n",
    "        self.house.second_floor = '_|o|_'\n",
    "        \n",
    "    def buildFirstFloor(self):\n",
    "        self.house.first_floor = '_|_|_'\n",
    "        \n",
    "    def getHouse(self):\n",
    "        return self.house"
   ]
  },
  {
   "cell_type": "code",
   "execution_count": 102,
   "metadata": {},
   "outputs": [],
   "source": [
    "class Director:\n",
    "    def __init__(self, builder):\n",
    "        self.builder = builder\n",
    "        \n",
    "    def change_builder(self, builder):\n",
    "        self.builder = builder\n",
    "        \n",
    "    def make(self, type_=''):\n",
    "        self.builder.reset()\n",
    "        self.builder.buildRoof()\n",
    "        if type_ == '2-floors':\n",
    "            self.builder.buildSecondFloor()\n",
    "        self.builder.buildFirstFloor()\n",
    "        \n",
    "    def present(self):\n",
    "        self.builder.getHouse().show()"
   ]
  },
  {
   "cell_type": "code",
   "execution_count": 103,
   "metadata": {},
   "outputs": [],
   "source": [
    "builder_default = BuilderDefault()\n",
    "builder_interesting = BuilderInteresting()"
   ]
  },
  {
   "cell_type": "code",
   "execution_count": 104,
   "metadata": {},
   "outputs": [
    {
     "name": "stdout",
     "output_type": "stream",
     "text": [
      "_/\\_\n",
      "_|_|_\n"
     ]
    }
   ],
   "source": [
    "director = Director(builder_default)\n",
    "director.make()\n",
    "director.present()"
   ]
  },
  {
   "cell_type": "code",
   "execution_count": 105,
   "metadata": {},
   "outputs": [
    {
     "name": "stdout",
     "output_type": "stream",
     "text": [
      "\\/\\/\n",
      ".|o|.\n",
      ".|^|.\n"
     ]
    }
   ],
   "source": [
    "director.change_builder(builder_interesting)\n",
    "director.make('2-floors')\n",
    "director.present()"
   ]
  },
  {
   "cell_type": "code",
   "execution_count": null,
   "metadata": {},
   "outputs": [],
   "source": []
  }
 ],
 "metadata": {
  "kernelspec": {
   "display_name": "Python 3",
   "language": "python",
   "name": "python3"
  },
  "language_info": {
   "codemirror_mode": {
    "name": "ipython",
    "version": 3
   },
   "file_extension": ".py",
   "mimetype": "text/x-python",
   "name": "python",
   "nbconvert_exporter": "python",
   "pygments_lexer": "ipython3",
   "version": "3.6.6"
  }
 },
 "nbformat": 4,
 "nbformat_minor": 2
}
