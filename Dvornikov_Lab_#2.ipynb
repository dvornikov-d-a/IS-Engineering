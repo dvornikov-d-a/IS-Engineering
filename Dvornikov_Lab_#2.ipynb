{
 "cells": [
  {
   "cell_type": "markdown",
   "metadata": {},
   "source": [
    "# Лабораторная №2"
   ]
  },
  {
   "cell_type": "markdown",
   "metadata": {},
   "source": [
    "## Паттерн \"Итератор\""
   ]
  },
  {
   "cell_type": "code",
   "execution_count": 86,
   "metadata": {},
   "outputs": [],
   "source": [
    "class DepthIterator:\n",
    "    def __init__(self, current):\n",
    "        self.current = current\n",
    "        self.parents = []\n",
    "        \n",
    "    def get_next(self):\n",
    "        if len(self.current.children) > 0:\n",
    "            self.parents.append(self.current)\n",
    "            self.current = self.current.children[0]\n",
    "        elif len(self.parents) > 0:\n",
    "            curr_index = self.parents[-1].children.index(self.current)\n",
    "            if len(self.parents[-1].children) > curr_index + 1:\n",
    "                self.current = self.parents[-1].children[curr_index + 1]\n",
    "                return\n",
    "            child = self.parents[-1]\n",
    "            self.parents.pop()\n",
    "            for grandparent in self.parents:\n",
    "                child_index = grandparent.children.index(child)\n",
    "                if len(grandparent.children) > child_index + 1:\n",
    "                    self.current = grandparent.children[child_index + 1]\n",
    "                    return\n",
    "                child = grandparent\n",
    "                self.parents.pop()\n",
    "    \n",
    "    def has_more(self):\n",
    "        if len(self.current.children) > 0:\n",
    "            return True\n",
    "        elif len(self.parents) > 0:\n",
    "            curr_index = self.parents[-1].children.index(self.current)\n",
    "            if len(self.parents[-1].children) > curr_index + 1:\n",
    "                return True\n",
    "            child = self.parents[-1]\n",
    "            for grandparent in self.parents[:-1]:\n",
    "                child_index = grandparent.children.index(child)\n",
    "                if len(grandparent.children) > child_index + 1:\n",
    "                    return True\n",
    "                child = grandparent\n",
    "        return False"
   ]
  },
  {
   "cell_type": "code",
   "execution_count": 294,
   "metadata": {},
   "outputs": [],
   "source": [
    "class BreadthIterator:\n",
    "    def __init__(self, current):\n",
    "        self.current = current\n",
    "        self.parents = []\n",
    "        \n",
    "    def get_next(self):\n",
    "        if len(self.parents) == 0:\n",
    "            if len(self.current.children) > 0:\n",
    "                self.parents = [self.current]\n",
    "                self.current = self.current.children[0]\n",
    "        else:\n",
    "            parent_index = [i for i, p in enumerate(self.parents) \n",
    "                            if self.current in p.children][0]\n",
    "            curr_index = self.parents[parent_index].children.index(self.current)\n",
    "            if len(self.parents[parent_index].children) > curr_index + 1:\n",
    "                self.current = self.parents[parent_index].children[curr_index + 1]\n",
    "            else:\n",
    "                if len(self.parents) > parent_index + 1:\n",
    "                    for parent in self.parents[parent_index + 1:]:\n",
    "                        if len(parent.children) > 0:\n",
    "                            self.current = parent.children[0]\n",
    "                            break\n",
    "                else:\n",
    "                    children = []\n",
    "                    for parent in self.parents:\n",
    "                        for bro in parent.children:\n",
    "                            for child in bro.children:\n",
    "                                children.append(child)\n",
    "                    if len(children) > 0:\n",
    "                        parents = []\n",
    "                        for parent in self.parents:\n",
    "                            for bro in parent.children:\n",
    "                                parents.append(bro)\n",
    "                        self.parents = parents\n",
    "                        self.current = children[0]\n",
    "    def has_more(self):\n",
    "        if len(self.parents) == 0:\n",
    "            if len(self.current.children) > 0:\n",
    "                return True\n",
    "        else:\n",
    "            parent_index = [i for i, p in enumerate(self.parents) \n",
    "                            if self.current in p.children][0]\n",
    "            curr_index = self.parents[parent_index].children.index(self.current)\n",
    "            if len(self.parents[parent_index].children) > curr_index + 1:\n",
    "                return True\n",
    "            else:\n",
    "                if len(self.parents) > parent_index + 1:\n",
    "                    for parent in self.parents[parent_index + 1:]:\n",
    "                        if len(parent.children) > 0:\n",
    "                            return True\n",
    "                else:\n",
    "                    children = []\n",
    "                    for parent in self.parents:\n",
    "                        for bro in parent.children:\n",
    "                            for child in bro.children:\n",
    "                                children.append(child)\n",
    "                    if len(children) > 0:\n",
    "                        return True"
   ]
  },
  {
   "cell_type": "code",
   "execution_count": 295,
   "metadata": {},
   "outputs": [],
   "source": [
    "class Tree:\n",
    "    def __init__(self, value, children=[]):\n",
    "        self.value = value\n",
    "        self.children = children\n",
    "        \n",
    "    def depth_iter(self):\n",
    "        return DepthIterator(self)\n",
    "    \n",
    "    def breadth_iter(self):\n",
    "        return BreadthIterator(self)"
   ]
  },
  {
   "cell_type": "code",
   "execution_count": 296,
   "metadata": {},
   "outputs": [],
   "source": [
    "tree = Tree(1, [\n",
    "    Tree(2, [\n",
    "        Tree(5),\n",
    "        Tree(6)\n",
    "    ]), \n",
    "    Tree(3, [\n",
    "        Tree(7)\n",
    "    ]), \n",
    "    Tree(4, [\n",
    "        Tree(8),\n",
    "        Tree(9)\n",
    "    ])\n",
    "])"
   ]
  },
  {
   "cell_type": "code",
   "execution_count": 297,
   "metadata": {},
   "outputs": [
    {
     "name": "stdout",
     "output_type": "stream",
     "text": [
      "1\n",
      "2\n",
      "5\n",
      "6\n",
      "3\n",
      "7\n",
      "4\n",
      "8\n",
      "9\n"
     ]
    }
   ],
   "source": [
    "depth = tree.depth_iter()\n",
    "print(depth.current.value)\n",
    "while depth.has_more():\n",
    "    depth.get_next()\n",
    "    print(depth.current.value)"
   ]
  },
  {
   "cell_type": "code",
   "execution_count": 298,
   "metadata": {},
   "outputs": [
    {
     "name": "stdout",
     "output_type": "stream",
     "text": [
      "1\n",
      "2\n",
      "3\n",
      "4\n",
      "5\n",
      "6\n",
      "7\n",
      "8\n",
      "9\n"
     ]
    }
   ],
   "source": [
    "breadth = tree.breadth_iter()\n",
    "print(breadth.current.value)\n",
    "while breadth.has_more():\n",
    "    breadth.get_next()\n",
    "    print(breadth.current.value)"
   ]
  },
  {
   "cell_type": "markdown",
   "metadata": {},
   "source": [
    "## Паттерн \"Посетитель\""
   ]
  },
  {
   "cell_type": "code",
   "execution_count": 4,
   "metadata": {},
   "outputs": [],
   "source": [
    "class Gosuslugi:\n",
    "    def __init__(self):\n",
    "        self.base = {\n",
    "            '9502 765-028': {\n",
    "                'Name': 'Ivanov Jack',\n",
    "                'SNILS': '957-472-967 54'\n",
    "            },\n",
    "            '8402 848-389': {\n",
    "                'Name': 'Holiday Alina',\n",
    "                'SNILS': '673-857-928 86'\n",
    "            },\n",
    "            '8603 104-984': {\n",
    "                'Name': 'Yesterday Samson',\n",
    "                'SNILS': '967-929-758 12'\n",
    "            }\n",
    "        }\n",
    "        \n",
    "    def give(self, digital_avatar, passport):\n",
    "        digital_avatar.mine_SNILS(self, passport)"
   ]
  },
  {
   "cell_type": "code",
   "execution_count": 5,
   "metadata": {},
   "outputs": [],
   "source": [
    "class EMIAS:\n",
    "    def __init__(self):\n",
    "        self.base = {\n",
    "            '9502 765-028': {\n",
    "                'Name': 'Ivanov Jack',\n",
    "                'OMS': '0673067320580672'\n",
    "            },\n",
    "            '8402 848-389': {\n",
    "                'Name': 'Holiday Alina',\n",
    "                'OMS': '0485629572058394'\n",
    "            },\n",
    "            '8603 104-984': {\n",
    "                'Name': 'Yesterday Samson',\n",
    "                'OMS': '8593934759320243'\n",
    "            }\n",
    "        }\n",
    "        \n",
    "    def give(self, digital_avatar, passport):\n",
    "        digital_avatar.mine_OMS(self, passport)"
   ]
  },
  {
   "cell_type": "code",
   "execution_count": 6,
   "metadata": {},
   "outputs": [],
   "source": [
    "class Discord:\n",
    "    def __init__(self):\n",
    "        self.base = {\n",
    "            '9502 765-028': {\n",
    "                'Name': 'Ivanov Jack',\n",
    "                'Nickname': 'VasyaOMG'\n",
    "            },\n",
    "            '8402 848-389': {\n",
    "                'Name': 'Holiday Alina',\n",
    "                'Nickname': 'Elisabetther'\n",
    "            },\n",
    "            '8603 104-984': {\n",
    "                'Name': 'Yesterday Samson',\n",
    "                'Nickname': 'WHOAMI123'\n",
    "            }\n",
    "        }\n",
    "        \n",
    "    def give(self, digital_avatar, passport):\n",
    "        digital_avatar.mine_nickname(self, passport)"
   ]
  },
  {
   "cell_type": "code",
   "execution_count": 11,
   "metadata": {},
   "outputs": [],
   "source": [
    "class DigitalAvatar:\n",
    "    def __init__(self):\n",
    "        self.base = {\n",
    "            '9502 765-028': {\n",
    "                'Name': 'Ivanov Jack',\n",
    "            },\n",
    "            '8402 848-389': {\n",
    "                'Name': 'Holiday Alina',\n",
    "            },\n",
    "            '8603 104-984': {\n",
    "                'Name': 'Yesterday Samson',\n",
    "            }\n",
    "        }\n",
    "        \n",
    "    def mine_SNILS(self, gosuslugi, passport):\n",
    "        self.base[passport]['SNILS'] = gosuslugi.base[passport]['SNILS']\n",
    "        \n",
    "    def mine_OMS(self, emias, passport):\n",
    "        self.base[passport]['OMS'] = emias.base[passport]['OMS']\n",
    "        \n",
    "    def mine_nickname(self, discord, passport):\n",
    "        self.base[passport]['Nickname'] = discord.base[passport]['Nickname']\n",
    "        \n",
    "    def mine_data(self, platforms):\n",
    "        for platform in platforms:\n",
    "            for passport in self.base.keys():\n",
    "                platform.give(self, passport)"
   ]
  },
  {
   "cell_type": "code",
   "execution_count": 12,
   "metadata": {},
   "outputs": [],
   "source": [
    "gosuslugi = Gosuslugi()\n",
    "emias = EMIAS()\n",
    "discord = Discord()"
   ]
  },
  {
   "cell_type": "code",
   "execution_count": 13,
   "metadata": {},
   "outputs": [
    {
     "data": {
      "text/plain": [
       "{'9502 765-028': {'Name': 'Ivanov Jack'},\n",
       " '8402 848-389': {'Name': 'Holiday Alina'},\n",
       " '8603 104-984': {'Name': 'Yesterday Samson'}}"
      ]
     },
     "execution_count": 13,
     "metadata": {},
     "output_type": "execute_result"
    }
   ],
   "source": [
    "digital_avatar = DigitalAvatar()\n",
    "digital_avatar.base"
   ]
  },
  {
   "cell_type": "code",
   "execution_count": 14,
   "metadata": {},
   "outputs": [
    {
     "data": {
      "text/plain": [
       "{'9502 765-028': {'Name': 'Ivanov Jack',\n",
       "  'SNILS': '957-472-967 54',\n",
       "  'OMS': '0673067320580672',\n",
       "  'Nickname': 'VasyaOMG'},\n",
       " '8402 848-389': {'Name': 'Holiday Alina',\n",
       "  'SNILS': '673-857-928 86',\n",
       "  'OMS': '0485629572058394',\n",
       "  'Nickname': 'Elisabetther'},\n",
       " '8603 104-984': {'Name': 'Yesterday Samson',\n",
       "  'SNILS': '967-929-758 12',\n",
       "  'OMS': '8593934759320243',\n",
       "  'Nickname': 'WHOAMI123'}}"
      ]
     },
     "execution_count": 14,
     "metadata": {},
     "output_type": "execute_result"
    }
   ],
   "source": [
    "digital_avatar.mine_data([gosuslugi, emias, discord])\n",
    "digital_avatar.base"
   ]
  },
  {
   "cell_type": "code",
   "execution_count": null,
   "metadata": {},
   "outputs": [],
   "source": []
  }
 ],
 "metadata": {
  "kernelspec": {
   "display_name": "Python 3",
   "language": "python",
   "name": "python3"
  },
  "language_info": {
   "codemirror_mode": {
    "name": "ipython",
    "version": 3
   },
   "file_extension": ".py",
   "mimetype": "text/x-python",
   "name": "python",
   "nbconvert_exporter": "python",
   "pygments_lexer": "ipython3",
   "version": "3.6.6"
  }
 },
 "nbformat": 4,
 "nbformat_minor": 2
}
